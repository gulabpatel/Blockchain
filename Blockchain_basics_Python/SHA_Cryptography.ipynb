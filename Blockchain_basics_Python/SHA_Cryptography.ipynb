{
  "nbformat": 4,
  "nbformat_minor": 0,
  "metadata": {
    "colab": {
      "name": "SHA_Cryptography.ipynb",
      "provenance": [],
      "collapsed_sections": [],
      "authorship_tag": "ABX9TyNahYoZlfmni7oRQRJYhLMe",
      "include_colab_link": true
    },
    "kernelspec": {
      "name": "python3",
      "display_name": "Python 3"
    }
  },
  "cells": [
    {
      "cell_type": "markdown",
      "metadata": {
        "id": "view-in-github",
        "colab_type": "text"
      },
      "source": [
        "<a href=\"https://colab.research.google.com/github/gulabpatel/Blockchain/blob/main/Blockchain_basics_Python/SHA_Cryptography.ipynb\" target=\"_parent\"><img src=\"https://colab.research.google.com/assets/colab-badge.svg\" alt=\"Open In Colab\"/></a>"
      ]
    },
    {
      "cell_type": "markdown",
      "metadata": {
        "id": "OnYU_RfKmng_"
      },
      "source": [
        "Video help is available [here](https://www.youtube.com/watch?v=IsDheIWguHs)\r\n",
        "\r\n",
        "\r\n",
        "For blockchain demo click [here](https://andersbrownworth.com/blockchain/hash)"
      ]
    },
    {
      "cell_type": "markdown",
      "metadata": {
        "id": "ldXDwInrrzzH"
      },
      "source": [
        "* SHA256 : This hash function belong to hash class SHA-2, the internal block size of it is 32 bits,<br>\r\n",
        "* SHA384 : This hash function belong to hash class SHA-2, the internal block size of it is 32 bits. This is one of the truncated version,<br>\r\n",
        "* SHA224 : This hash function belong to hash class SHA-2, the internal block size of it is 32 bits. This is one of the truncated version,<br>\r\n",
        "* SHA512 : This hash function belong to hash class SHA-2, the internal block size of it is 64 bits,<br>\r\n",
        "* SHA1 : The 160 bit hash function that resembles MD5 hash in working and was discontinued to be used seeing its security vulnerabilities.\r\n"
      ]
    },
    {
      "cell_type": "code",
      "metadata": {
        "id": "T7mxGhlvlPSf"
      },
      "source": [
        "import hashlib"
      ],
      "execution_count": 1,
      "outputs": []
    },
    {
      "cell_type": "markdown",
      "metadata": {
        "id": "ppoxcIW4oHQW"
      },
      "source": [
        "#SHA256"
      ]
    },
    {
      "cell_type": "code",
      "metadata": {
        "id": "xPEBu5H8oGkl",
        "colab": {
          "base_uri": "https://localhost:8080/"
        },
        "outputId": "03b92621-b8e6-4ad3-9320-e2e308ebbc02"
      },
      "source": [
        "str1 = \"Gulab Patel\"\r\n",
        "##apply hashing algorithm\r\n",
        "hasheval1 = hashlib.sha256(str1.encode())\r\n",
        "hasheval1"
      ],
      "execution_count": 10,
      "outputs": [
        {
          "output_type": "execute_result",
          "data": {
            "text/plain": [
              "<sha256 HASH object @ 0x7fe343017240>"
            ]
          },
          "metadata": {
            "tags": []
          },
          "execution_count": 10
        }
      ]
    },
    {
      "cell_type": "code",
      "metadata": {
        "id": "Qs7IAfH8oiO_",
        "colab": {
          "base_uri": "https://localhost:8080/",
          "height": 35
        },
        "outputId": "69acb31a-1413-44d4-b34e-78c08c1717b2"
      },
      "source": [
        "#Convert this value to hexadecimal\r\n",
        "hasheval1.hexdigest()"
      ],
      "execution_count": 11,
      "outputs": [
        {
          "output_type": "execute_result",
          "data": {
            "application/vnd.google.colaboratory.intrinsic+json": {
              "type": "string"
            },
            "text/plain": [
              "'518c34b40eee29161ff1e022b6c49ba327eac707cbdec679684aa15a5f517f90'"
            ]
          },
          "metadata": {
            "tags": []
          },
          "execution_count": 11
        }
      ]
    },
    {
      "cell_type": "code",
      "metadata": {
        "colab": {
          "base_uri": "https://localhost:8080/"
        },
        "id": "DGHkn0AcpvTj",
        "outputId": "0b4621b8-f746-4e41-ebb7-3e849640e03f"
      },
      "source": [
        "len(hasheval1.hexdigest())"
      ],
      "execution_count": 12,
      "outputs": [
        {
          "output_type": "execute_result",
          "data": {
            "text/plain": [
              "64"
            ]
          },
          "metadata": {
            "tags": []
          },
          "execution_count": 12
        }
      ]
    },
    {
      "cell_type": "markdown",
      "metadata": {
        "id": "DZSr6BKFo_F2"
      },
      "source": [
        "#SHA384"
      ]
    },
    {
      "cell_type": "code",
      "metadata": {
        "colab": {
          "base_uri": "https://localhost:8080/"
        },
        "id": "8eQX1zsbo-mj",
        "outputId": "c3999459-c3ff-422b-e920-fca32a943de6"
      },
      "source": [
        "##apply hashing algorithm\r\n",
        "hasheval2 = hashlib.sha384(str1.encode())\r\n",
        "hasheval2"
      ],
      "execution_count": 4,
      "outputs": [
        {
          "output_type": "execute_result",
          "data": {
            "text/plain": [
              "<sha384 HASH object @ 0x7fe34390d8d0>"
            ]
          },
          "metadata": {
            "tags": []
          },
          "execution_count": 4
        }
      ]
    },
    {
      "cell_type": "code",
      "metadata": {
        "colab": {
          "base_uri": "https://localhost:8080/",
          "height": 35
        },
        "id": "q1R5_ZzDpPcG",
        "outputId": "6c7ace01-f282-4842-bebc-962a3052da54"
      },
      "source": [
        "#Convert this value to hexadecimal\r\n",
        "hasheval2.hexdigest()"
      ],
      "execution_count": 5,
      "outputs": [
        {
          "output_type": "execute_result",
          "data": {
            "application/vnd.google.colaboratory.intrinsic+json": {
              "type": "string"
            },
            "text/plain": [
              "'1d6dcef062af81e93c97f7fa42eda504d8db35486b935838a9cc89284e39bb2bf12962f159637e9300d32cf933b23949'"
            ]
          },
          "metadata": {
            "tags": []
          },
          "execution_count": 5
        }
      ]
    },
    {
      "cell_type": "code",
      "metadata": {
        "colab": {
          "base_uri": "https://localhost:8080/"
        },
        "id": "7oPTffDfpgIC",
        "outputId": "74a827d1-b3df-4b20-ff2c-dd35a9418b79"
      },
      "source": [
        "len(hasheval2.hexdigest())"
      ],
      "execution_count": 6,
      "outputs": [
        {
          "output_type": "execute_result",
          "data": {
            "text/plain": [
              "96"
            ]
          },
          "metadata": {
            "tags": []
          },
          "execution_count": 6
        }
      ]
    },
    {
      "cell_type": "markdown",
      "metadata": {
        "id": "SAGRmbWIqOFa"
      },
      "source": [
        "#SHA224"
      ]
    },
    {
      "cell_type": "code",
      "metadata": {
        "colab": {
          "base_uri": "https://localhost:8080/"
        },
        "id": "TKedYGFwqRC9",
        "outputId": "8f7483c6-9e29-4de3-dd42-ee6d04346ed3"
      },
      "source": [
        "##apply hashing algorithm\r\n",
        "hasheval3 = hashlib.sha224(str1.encode())\r\n",
        "hasheval3"
      ],
      "execution_count": 20,
      "outputs": [
        {
          "output_type": "execute_result",
          "data": {
            "text/plain": [
              "<sha224 HASH object @ 0x7fe34390df30>"
            ]
          },
          "metadata": {
            "tags": []
          },
          "execution_count": 20
        }
      ]
    },
    {
      "cell_type": "code",
      "metadata": {
        "colab": {
          "base_uri": "https://localhost:8080/",
          "height": 35
        },
        "id": "H-QZCxk5qcM2",
        "outputId": "f6b9971f-1909-4ca4-f42d-a991f2fd4fc4"
      },
      "source": [
        "#Convert this value to hexadecimal\r\n",
        "hasheval3.hexdigest()"
      ],
      "execution_count": 22,
      "outputs": [
        {
          "output_type": "execute_result",
          "data": {
            "application/vnd.google.colaboratory.intrinsic+json": {
              "type": "string"
            },
            "text/plain": [
              "'f7c5d15ea3a2c57fcd5dd9f00119a912a3d87296a9e56df0b24438ba'"
            ]
          },
          "metadata": {
            "tags": []
          },
          "execution_count": 22
        }
      ]
    },
    {
      "cell_type": "code",
      "metadata": {
        "colab": {
          "base_uri": "https://localhost:8080/"
        },
        "id": "hKfdrzhVqgEm",
        "outputId": "7234cb25-fc94-40ec-df2c-2ed57771bcb9"
      },
      "source": [
        "len(#Convert this value to hexadecimal\r\n",
        "hasheval3.hexdigest())"
      ],
      "execution_count": 23,
      "outputs": [
        {
          "output_type": "execute_result",
          "data": {
            "text/plain": [
              "56"
            ]
          },
          "metadata": {
            "tags": []
          },
          "execution_count": 23
        }
      ]
    },
    {
      "cell_type": "markdown",
      "metadata": {
        "id": "gUFcReNdp4WZ"
      },
      "source": [
        "#SHA512"
      ]
    },
    {
      "cell_type": "code",
      "metadata": {
        "colab": {
          "base_uri": "https://localhost:8080/"
        },
        "id": "Q4bHi1HIptFf",
        "outputId": "8b46e7ae-856e-4501-a8a8-d001e784e996"
      },
      "source": [
        "##apply hashing algorithm\r\n",
        "hasheval4 = hashlib.sha512(str1.encode())\r\n",
        "hasheval4"
      ],
      "execution_count": 24,
      "outputs": [
        {
          "output_type": "execute_result",
          "data": {
            "text/plain": [
              "<sha512 HASH object @ 0x7fe342fa8390>"
            ]
          },
          "metadata": {
            "tags": []
          },
          "execution_count": 24
        }
      ]
    },
    {
      "cell_type": "code",
      "metadata": {
        "colab": {
          "base_uri": "https://localhost:8080/",
          "height": 52
        },
        "id": "F48T2zIMp_AV",
        "outputId": "79e5e7a8-931e-4e5f-a683-d518b6acd156"
      },
      "source": [
        "#Convert this value to hexadecimal\r\n",
        "hasheval4.hexdigest()"
      ],
      "execution_count": 25,
      "outputs": [
        {
          "output_type": "execute_result",
          "data": {
            "application/vnd.google.colaboratory.intrinsic+json": {
              "type": "string"
            },
            "text/plain": [
              "'5844738e693ea3789a3930b53a7bc4448ba673607eefc016cd52617ab592d8b147ad4cd5beaeb56d186890b7fe36ed73d682b2bab378cb9ad77badb8a22ace23'"
            ]
          },
          "metadata": {
            "tags": []
          },
          "execution_count": 25
        }
      ]
    },
    {
      "cell_type": "code",
      "metadata": {
        "colab": {
          "base_uri": "https://localhost:8080/"
        },
        "id": "D3_uI2qIqCyE",
        "outputId": "0bdda7ab-4cfa-45f0-c86b-4d3bde4a61c9"
      },
      "source": [
        "len(hasheval4.hexdigest())"
      ],
      "execution_count": 26,
      "outputs": [
        {
          "output_type": "execute_result",
          "data": {
            "text/plain": [
              "128"
            ]
          },
          "metadata": {
            "tags": []
          },
          "execution_count": 26
        }
      ]
    },
    {
      "cell_type": "markdown",
      "metadata": {
        "id": "0uGtOv0sqtMQ"
      },
      "source": [
        "--------------------------"
      ]
    }
  ]
}